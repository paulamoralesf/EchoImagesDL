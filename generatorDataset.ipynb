{
 "cells": [
  {
   "cell_type": "code",
   "execution_count": 99,
   "metadata": {},
   "outputs": [],
   "source": [
    "import os\n",
    "from datetime import datetime\n",
    "import json\n",
    "from pydicom import dcmread\n",
    "from pydicom.data import get_testdata_file\n",
    "import matplotlib.pyplot as plt\n",
    "import numpy as np\n",
    "import cv2\n",
    "def extractingIdDCM(ds2):\n",
    "    id=ds2.SOPInstanceUID\n",
    "    return id\n",
    "def extractingPatientIdDCM(ds2):\n",
    "    patient_id=ds2.PatientID\n",
    "    return patient_id\n",
    "def extractingManufacturer(ds2):\n",
    "    manufacturer=ds2.Manufacturer\n",
    "    return manufacturer\n",
    "def extractingType(ds2):\n",
    "    try:\n",
    "        type=ds2.SequenceOfUltrasoundRegions[1].RegionDataType\n",
    "        return type \n",
    "    except:\n",
    "        return 0\n",
    "def extractingEchoImg(ds2,coordenadasEcho):\n",
    "    if(len(ds2.SequenceOfUltrasoundRegions)==2):\n",
    "        Y0=ds2.SequenceOfUltrasoundRegions[0].RegionLocationMinY0\n",
    "        Y1=ds2.SequenceOfUltrasoundRegions[0].RegionLocationMaxY1\n",
    "        X0=ds2.SequenceOfUltrasoundRegions[0].RegionLocationMinX0\n",
    "        X1=ds2.SequenceOfUltrasoundRegions[0].RegionLocationMaxX1\n",
    "        img2D=ds2.pixel_array[Y0:Y1,X0:X1,:]\n",
    "        img2D=convert_ybr_to_rgb(img2D)\n",
    "\n",
    "        Y0=ds2.SequenceOfUltrasoundRegions[1].RegionLocationMinY0\n",
    "        Y1=ds2.SequenceOfUltrasoundRegions[1].RegionLocationMaxY1\n",
    "        X0=ds2.SequenceOfUltrasoundRegions[1].RegionLocationMinX0\n",
    "        X1=ds2.SequenceOfUltrasoundRegions[1].RegionLocationMaxX1\n",
    "        Echo=ds2.pixel_array[Y0:Y1,X0:X1,:]\n",
    "        Echo=convert_ybr_to_rgb(Echo)\n",
    "    else:\n",
    "        Y0=ds2.SequenceOfUltrasoundRegions[0].RegionLocationMinY0\n",
    "        Y1=ds2.SequenceOfUltrasoundRegions[0].RegionLocationMaxY1\n",
    "        X0=ds2.SequenceOfUltrasoundRegions[0].RegionLocationMinX0\n",
    "        X1=ds2.SequenceOfUltrasoundRegions[0].RegionLocationMaxX1\n",
    "        Echo=ds2.pixel_array[Y0:Y1,X0:X1,:]\n",
    "        img2D=np.array([])\n",
    "        Echo=convert_ybr_to_rgb(Echo)\n",
    "        \n",
    "    return (Echo,img2D)\n",
    "def curvePointsExtraction(curvePoints):\n",
    "    xi=0;yi=0;yf=0;xf=0\n",
    "    for i in range(len(curvePoints)):\n",
    "        if (curvePoints[i].get('type')=='cycle beginning'):\n",
    "            xi=curvePoints[i].get('x')\n",
    "            yi=curvePoints[i].get('y')\n",
    "            \n",
    "        elif(curvePoints[i].get('type')=='cycle end'):\n",
    "            xf=curvePoints[i].get('x')\n",
    "            yf=curvePoints[i].get('y')\n",
    "    \n",
    "    return xi,yi,xf,yf\n",
    "def convert_ybr_to_rgb(arr):\n",
    "    if len(arr.shape) == 4:\n",
    "        return np.vstack([convert_ybr_to_rgb(a)[np.newaxis] for a in arr])\n",
    "    else:\n",
    "        temp = arr[..., 1].copy()\n",
    "        arr[..., 1] = arr[..., 2]\n",
    "        arr[..., 2] = temp\n",
    "        return cv2.cvtColor(arr, cv2.COLOR_YCR_CB2RGB)"
   ]
  },
  {
   "cell_type": "code",
   "execution_count": 2,
   "metadata": {
    "scrolled": true
   },
   "outputs": [
    {
     "name": "stdout",
     "output_type": "stream",
     "text": [
      "Núm. archivos: 7286\n"
     ]
    },
    {
     "data": {
      "text/plain": [
       "7286"
      ]
     },
     "execution_count": 2,
     "metadata": {},
     "output_type": "execute_result"
    }
   ],
   "source": [
    "\n",
    "dirDicom ='/mnt/d/USER/Drive UPF/TFM/Datasets/export_minio/export_minio/'\n",
    "#files=os.walk(dir,topdown=True)\n",
    "dicomfiles=[]\n",
    "dicom_id=[]\n",
    "total = 0\n",
    "num_archivos = 0\n",
    "formato = '%d-%m-%y %H:%M:%S'\n",
    "linea = '-' * 60\n",
    "for ruta, directorios, archivos in os.walk(dirDicom, topdown=True):\n",
    "    #print('\\nruta       :', ruta) \n",
    "    for elemento in archivos:\n",
    "        num_archivos += 1\n",
    "        archivo = ruta + os.sep + elemento\n",
    "        estado = os.stat(archivo)\n",
    "        tamaño = estado.st_size\n",
    "        dicomfiles.append(elemento)\n",
    "        if(elemento!='desktop.ini'):\n",
    "\n",
    "            ds2 = dcmread(archivo)\n",
    "            dicom_id.append(extractingIdDCM(ds2))\n",
    "            #print(archivo)\n",
    "\n",
    "\n",
    "print('Núm. archivos:', num_archivos)\n",
    "len(dicomfiles)"
   ]
  },
  {
   "cell_type": "code",
   "execution_count": 3,
   "metadata": {
    "scrolled": true
   },
   "outputs": [
    {
     "name": "stdout",
     "output_type": "stream",
     "text": [
      "Núm. archivos: 430\n"
     ]
    }
   ],
   "source": [
    "import json\n",
    "jsonfiles=[]\n",
    "dirJSON='/mnt/d/USER/Drive UPF/TFM/Datasets/export_mongo/export_mongo/'\n",
    "num_archivos = 0\n",
    "for ruta, directorios, archivos in os.walk(dirJSON, topdown=True):\n",
    "    #print('\\nruta       :', ruta) \n",
    "        for elemento in archivos:\n",
    "            \n",
    "            if(elemento!='desktop.ini'):\n",
    "                jsonfiles.append(ruta+'/'+elemento)\n",
    "                num_archivos += 1 \n",
    "\n",
    "print('Núm. archivos:', num_archivos)\n"
   ]
  },
  {
   "cell_type": "code",
   "execution_count": 4,
   "metadata": {},
   "outputs": [
    {
     "data": {
      "text/plain": [
       "6442"
      ]
     },
     "execution_count": 4,
     "metadata": {},
     "output_type": "execute_result"
    }
   ],
   "source": [
    "idEval=[];\n",
    "\n",
    "for i in jsonfiles:\n",
    "    #path=jsonfiles\n",
    "\n",
    "    with open(i) as myfile:\n",
    "        data = json.load(myfile)\n",
    "        \n",
    "    analysisData=data.get('analysis')[0]\n",
    "    imagesAnalysis=analysisData.get('images')\n",
    "    \n",
    "    for j in range(0,len(imagesAnalysis)):\n",
    "        Id=imagesAnalysis[j].get('id')\n",
    "        idEval.append(Id)\n",
    "        \n",
    "len(idEval)"
   ]
  },
  {
   "cell_type": "code",
   "execution_count": 5,
   "metadata": {},
   "outputs": [],
   "source": [
    "import pandas as pd\n",
    "idEval2=pd.unique(idEval)"
   ]
  },
  {
   "cell_type": "code",
   "execution_count": 6,
   "metadata": {
    "scrolled": true
   },
   "outputs": [
    {
     "data": {
      "text/plain": [
       "2755"
      ]
     },
     "execution_count": 6,
     "metadata": {},
     "output_type": "execute_result"
    }
   ],
   "source": [
    "examsVal=[]\n",
    "\n",
    "for i in range(0,len(idEval2)):\n",
    "    for j in range(0,len(dicom_id)):\n",
    "        if (idEval2[i]==dicom_id[j]):\n",
    "            examsVal.append(idEval2[i])\n",
    "            break;\n",
    "        \n",
    "len(examsVal)"
   ]
  },
  {
   "cell_type": "raw",
   "metadata": {},
   "source": [
    "Ahora tengo los id que han sido evaluados (Existe ground truth). Voy a cargar los dicom y almacenar los arreglos de imagenes de doppler y 2d de cada uno. "
   ]
  },
  {
   "cell_type": "code",
   "execution_count": 7,
   "metadata": {},
   "outputs": [],
   "source": [
    "clases=[]\n",
    "rutasjson=[]\n",
    "coordenadas=[]\n",
    "for i in jsonfiles:\n",
    "    #path=jsonfiles\n",
    "    \n",
    "    with open(i) as myfile:\n",
    "        data = json.load(myfile)\n",
    "\n",
    "    analysisData=data.get('analysis')[0]\n",
    "    imagesAnalysis=analysisData.get('images')\n",
    "    \n",
    "    for k in examsVal:\n",
    "        for j in range(0,len(imagesAnalysis)):\n",
    "            Id=imagesAnalysis[j].get('id')\n",
    "            if(Id==k):\n",
    "                clases.append(imagesAnalysis[j].get('type'))\n",
    "                rutasjson.append(i)\n",
    "                curvePoints=imagesAnalysis[j].get('curve').get('control_points')\n",
    "                xi,yi,xf,yf=curvePointsExtraction(curvePoints)\n",
    "                coord=[xi,xf]\n",
    "                coordenadas.append(coord)\n",
    "                break;"
   ]
  },
  {
   "cell_type": "code",
   "execution_count": 8,
   "metadata": {},
   "outputs": [
    {
     "data": {
      "text/plain": [
       "2755"
      ]
     },
     "execution_count": 8,
     "metadata": {},
     "output_type": "execute_result"
    }
   ],
   "source": [
    "len(coordenadas)"
   ]
  },
  {
   "cell_type": "code",
   "execution_count": 8,
   "metadata": {},
   "outputs": [],
   "source": [
    "echoImgs=[]\n",
    "bdImgs=[]\n",
    "rutas=[]\n",
    "ids=[]\n",
    "classes=[]\n",
    "names=[]\n",
    "patients=[]\n",
    "idpatients=[]\n",
    "sourcedb=[];typeDoppler=[];\n",
    "aduheart=0;covid=0;clinic=0;kids=0;\n",
    "for ruta, directorios, archivos in os.walk(dirDicom, topdown=True):\n",
    "    #print('\\nruta       :', ruta) \n",
    "    for elemento in archivos:\n",
    "        archivo = ruta + os.sep + elemento\n",
    "        \n",
    "        if(elemento!='desktop.ini'):\n",
    "            ds2 = dcmread(archivo)\n",
    "            id=extractingIdDCM(ds2)\n",
    "            for i in range(0,len(examsVal)):\n",
    "                if(id==examsVal[i]):\n",
    "                        #print(i,id,archivo)\n",
    "                        #ds2 = dcmread(archivo)\n",
    "                    echoImg,bdImg=extractingEchoImg(ds2,coordenadas[i])\n",
    "                    if(bdImg.size>0):\n",
    "                        echoImgs.append(echoImg)\n",
    "                        bdImgs.append(bdImg)\n",
    "                        rutas.append(archivo)\n",
    "                        ids.append(id)\n",
    "                        classes.append(clases[i])\n",
    "                        names.append(elemento)\n",
    "                        patientid=ds2.PatientID\n",
    "                        a=ruta.split('/')\n",
    "                        dbname=a[9]\n",
    "                        sourcedb.append(dbname)\n",
    "                        typeDoppler.append(extractingType(ds2))\n",
    "                        break;\n",
    "      "
   ]
  },
  {
   "cell_type": "code",
   "execution_count": 36,
   "metadata": {},
   "outputs": [
    {
     "name": "stdout",
     "output_type": "stream",
     "text": [
      "2265 264 1\n"
     ]
    }
   ],
   "source": [
    "CW=0;PW=0;none=0;\n",
    "for i in range(0,len(typeDoppler)):\n",
    "    if typeDoppler[i]==3:\n",
    "        PW=PW+1;\n",
    "    elif typeDoppler[i]==4:\n",
    "        CW=CW+1;\n",
    "        \n",
    "    elif typeDoppler[i]==0:\n",
    "        none=none+1;\n",
    "        \n",
    "print(PW, CW, none) #no hay TVD segun los DICOM"
   ]
  },
  {
   "cell_type": "code",
   "execution_count": 29,
   "metadata": {},
   "outputs": [],
   "source": [
    "dbs={}\n",
    "for patient in patients:\n",
    "    a=patient[0].split('/')\n",
    "    dbname=a[9]\n",
    "    if dbname not in dbs:\n",
    "        dbs[dbname]=[]\n",
    "    dbs[dbname].append([patient[1],patient[2]])\n",
    "    "
   ]
  },
  {
   "cell_type": "code",
   "execution_count": 75,
   "metadata": {},
   "outputs": [
    {
     "data": {
      "text/plain": [
       "91"
      ]
     },
     "execution_count": 75,
     "metadata": {},
     "output_type": "execute_result"
    }
   ],
   "source": [
    "len(dbs['dcmsickkids'])"
   ]
  },
  {
   "cell_type": "code",
   "execution_count": 97,
   "metadata": {},
   "outputs": [
    {
     "name": "stdout",
     "output_type": "stream",
     "text": [
      "124 125 3\n"
     ]
    },
    {
     "data": {
      "image/png": "[encoded data removed]",
      "text/plain": [
       "<Figure size 432x288 with 1 Axes>"
      ]
     },
     "metadata": {
      "needs_background": "light"
     },
     "output_type": "display_data"
    },
    {
     "data": {
      "image/png": "[encoded data removed]",
      "text/plain": [
       "<Figure size 432x288 with 1 Axes>"
      ]
     },
     "metadata": {
      "needs_background": "light"
     },
     "output_type": "display_data"
    },
    {
     "data": {
      "image/png": "[encoded data removed]",
      "text/plain": [
       "<Figure size 432x288 with 1 Axes>"
      ]
     },
     "metadata": {
      "needs_background": "light"
     },
     "output_type": "display_data"
    }
   ],
   "source": [
    "from skimage import morphology, filters\n",
    "import sklearn.preprocessing as sk\n",
    "\n",
    "#th=filters.threshold_otsu(bdImgs[5][:,:,1])\n",
    "#img=cv2.medianBlur(bdImgs[5],3)\n",
    "#img = cv2.GaussianBlur(bdImgs[5],(5,5),0)\n",
    "num=1000\n",
    "img=cv2.bilateralFilter(bdImgs[num],20,75,75)\n",
    "img= sk.binarize(img[:,:,1], threshold=105)#hasta aquí puedo mantener lo que no es marcador y extraerlo de la imagen final\n",
    "\n",
    "#img= sk.binarize(bdImgs[5][:,:,1], threshold=105)\n",
    "img2=cv2.medianBlur(bdImgs[num],3)\n",
    "#img2=cv2.bilateralFilter(bdImgs[5],10,75,75)\n",
    "img2= sk.binarize(img2[:,:,1], threshold=105)\n",
    "newimg=img2-img\n",
    "plt.figure()\n",
    "plt.imshow(newimg, cmap=plt.cm.gray)\n",
    "\n",
    "plt.figure()\n",
    "plt.imshow(img2, cmap=plt.cm.gray)\n",
    "plt.figure()\n",
    "plt.imshow(bdImgs[num],cmap=plt.cm.gray)\n",
    "x,y,z=bdImgs[1].shape\n",
    "print(x,y,z)"
   ]
  },
  {
   "cell_type": "code",
   "execution_count": 47,
   "metadata": {},
   "outputs": [
    {
     "data": {
      "text/plain": [
       "<matplotlib.image.AxesImage at 0x7f930b136be0>"
      ]
     },
     "execution_count": 47,
     "metadata": {},
     "output_type": "execute_result"
    },
    {
     "data": {
      "image/png": "[encoded data removed]",
      "text/plain": [
       "<Figure size 432x288 with 1 Axes>"
      ]
     },
     "metadata": {
      "needs_background": "light"
     },
     "output_type": "display_data"
    }
   ],
   "source": [
    "th=filters.threshold_otsu(bdImgs[145][:,:,1])\n",
    "img= sk.binarize(bdImgs[1285][:,:,1], threshold=105)\n",
    "plt.figure()\n",
    "plt.imshow(img, cmap=plt.cm.gray)"
   ]
  },
  {
   "cell_type": "code",
   "execution_count": null,
   "metadata": {},
   "outputs": [],
   "source": [
    "sizesEcho=[]\n",
    "sizes2D=[]\n",
    "for i in range(0,len(echoImgs)):\n",
    "    sizeEchos=echoImgs[i].shape\n",
    "    size2d=bdImgs[i].shape\n",
    "    if(sizeEchos not in sizesEcho):\n",
    "        sizesEcho.append(sizeEchos)\n",
    "    if(size2d not in sizes2D):\n",
    "        sizes2D.append(size2d)\n",
    "        "
   ]
  },
  {
   "cell_type": "code",
   "execution_count": 10,
   "metadata": {},
   "outputs": [],
   "source": [
    "classifications=[]\n",
    "for i in range(0,len(classes)):\n",
    "    label=classes[i]\n",
    "    if label not in classifications:\n",
    "        classifications.append(label)"
   ]
  },
  {
   "cell_type": "code",
   "execution_count": 11,
   "metadata": {},
   "outputs": [
    {
     "data": {
      "text/plain": [
       "['Pulmonary Artery',\n",
       " 'PW TDI Lateral Tricuspid',\n",
       " 'Mitral valve PW Doppler',\n",
       " 'PW TDI Lateral Mitral',\n",
       " 'PW TDI Septal Mitral',\n",
       " 'Pulmonary vein',\n",
       " 'Aortic valve',\n",
       " 'Tricuspid valve PW Doppler',\n",
       " 'Mitral valve CW Doppler',\n",
       " 'Tricuspid valve CW Doppler']"
      ]
     },
     "execution_count": 11,
     "metadata": {},
     "output_type": "execute_result"
    }
   ],
   "source": [
    "classifications"
   ]
  },
  {
   "cell_type": "code",
   "execution_count": 13,
   "metadata": {},
   "outputs": [],
   "source": [
    "DATABASE=[];\n",
    "for i in range(len(bdImgs)):\n",
    "    a={'echoImg': echoImgs[i], 'bdImg': bdImgs[i], 'id': ids[i], 'class': classes[i], 'filename': names[i], 'path': rutas[i]}\n",
    "    DATABASE.append(a)\n",
    "DATABASE=np.array(DATABASE)\n"
   ]
  },
  {
   "cell_type": "code",
   "execution_count": 46,
   "metadata": {},
   "outputs": [],
   "source": [
    "DBImgs=[];\n",
    "label=[];bbdd=[]\n",
    "for i in range(len(bdImgs)):\n",
    "    if(bdImgs[i].size>0):\n",
    "        a={'echoImg': echoImgs[i], 'bdImg': bdImgs[i],'class': classes[i],'source': sourcedb[i],'filename': names[i]}\n",
    "        label.append(classes[i])\n",
    "        bbdd.append(sourcedb[i])\n",
    "        DBImgs.append(a)"
   ]
  },
  {
   "cell_type": "code",
   "execution_count": 31,
   "metadata": {},
   "outputs": [],
   "source": [
    "from sklearn.preprocessing import LabelEncoder \n",
    "#to convert the categorical labels as integers\n",
    "le = LabelEncoder()\n",
    "labelN=le.fit_transform(label)\n",
    "bbddN=le.fit_transform(bbdd)"
   ]
  },
  {
   "cell_type": "code",
   "execution_count": 39,
   "metadata": {},
   "outputs": [
    {
     "ename": "ValueError",
     "evalue": "The least populated class in y has only 1 member, which is too few. The minimum number of groups for any class cannot be less than 2.",
     "output_type": "error",
     "traceback": [
      "\u001b[0;31m---------------------------------------------------------------------------\u001b[0m",
      "\u001b[0;31mValueError\u001b[0m                                Traceback (most recent call last)",
      "\u001b[0;32m<ipython-input-39-31da020e0cbb>\u001b[0m in \u001b[0;36m<module>\u001b[0;34m\u001b[0m\n\u001b[1;32m      3\u001b[0m \u001b[0mlabel_stratified\u001b[0m \u001b[0;34m=\u001b[0m \u001b[0mpair\u001b[0m\u001b[0;34m(\u001b[0m\u001b[0mlabelN\u001b[0m\u001b[0;34m,\u001b[0m \u001b[0mbbddN\u001b[0m\u001b[0;34m)\u001b[0m\u001b[0;34m\u001b[0m\u001b[0;34m\u001b[0m\u001b[0m\n\u001b[1;32m      4\u001b[0m \u001b[0mlabel_stratified\u001b[0m \u001b[0;34m=\u001b[0m \u001b[0;36m100000\u001b[0m\u001b[0;34m*\u001b[0m\u001b[0mlabelN\u001b[0m \u001b[0;34m+\u001b[0m \u001b[0mbbddN\u001b[0m\u001b[0;34m\u001b[0m\u001b[0;34m\u001b[0m\u001b[0m\n\u001b[0;32m----> 5\u001b[0;31m \u001b[0mX_train\u001b[0m\u001b[0;34m,\u001b[0m \u001b[0mX_test\u001b[0m\u001b[0;34m,\u001b[0m  \u001b[0my_train_paired\u001b[0m\u001b[0;34m,\u001b[0m \u001b[0my_test_paired\u001b[0m  \u001b[0;34m=\u001b[0m \u001b[0mtrain_test_split\u001b[0m\u001b[0;34m(\u001b[0m\u001b[0mDBImgs\u001b[0m\u001b[0;34m,\u001b[0m \u001b[0mlabel_stratified\u001b[0m\u001b[0;34m,\u001b[0m \u001b[0mtest_size\u001b[0m\u001b[0;34m=\u001b[0m\u001b[0;36m1\u001b[0m\u001b[0;34m/\u001b[0m\u001b[0;36m4\u001b[0m\u001b[0;34m,\u001b[0m\u001b[0mrandom_state\u001b[0m\u001b[0;34m=\u001b[0m\u001b[0;36m42\u001b[0m\u001b[0;34m,\u001b[0m \u001b[0mstratify\u001b[0m\u001b[0;34m=\u001b[0m\u001b[0mlabel_stratified\u001b[0m\u001b[0;34m)\u001b[0m\u001b[0;34m\u001b[0m\u001b[0;34m\u001b[0m\u001b[0m\n\u001b[0m\u001b[1;32m      6\u001b[0m \u001b[0my_train\u001b[0m \u001b[0;34m=\u001b[0m \u001b[0mdepair\u001b[0m\u001b[0;34m(\u001b[0m\u001b[0my_train_paired\u001b[0m\u001b[0;34m)\u001b[0m\u001b[0;34m\u001b[0m\u001b[0;34m\u001b[0m\u001b[0m\n\u001b[1;32m      7\u001b[0m \u001b[0my_test\u001b[0m  \u001b[0;34m=\u001b[0m \u001b[0mdepair\u001b[0m\u001b[0;34m(\u001b[0m\u001b[0my_test_paired\u001b[0m\u001b[0;34m)\u001b[0m\u001b[0;34m\u001b[0m\u001b[0;34m\u001b[0m\u001b[0m\n",
      "\u001b[0;32m~/.local/lib/python3.8/site-packages/sklearn/model_selection/_split.py\u001b[0m in \u001b[0;36mtrain_test_split\u001b[0;34m(test_size, train_size, random_state, shuffle, stratify, *arrays)\u001b[0m\n\u001b[1;32m   2195\u001b[0m                      random_state=random_state)\n\u001b[1;32m   2196\u001b[0m \u001b[0;34m\u001b[0m\u001b[0m\n\u001b[0;32m-> 2197\u001b[0;31m         \u001b[0mtrain\u001b[0m\u001b[0;34m,\u001b[0m \u001b[0mtest\u001b[0m \u001b[0;34m=\u001b[0m \u001b[0mnext\u001b[0m\u001b[0;34m(\u001b[0m\u001b[0mcv\u001b[0m\u001b[0;34m.\u001b[0m\u001b[0msplit\u001b[0m\u001b[0;34m(\u001b[0m\u001b[0mX\u001b[0m\u001b[0;34m=\u001b[0m\u001b[0marrays\u001b[0m\u001b[0;34m[\u001b[0m\u001b[0;36m0\u001b[0m\u001b[0;34m]\u001b[0m\u001b[0;34m,\u001b[0m \u001b[0my\u001b[0m\u001b[0;34m=\u001b[0m\u001b[0mstratify\u001b[0m\u001b[0;34m)\u001b[0m\u001b[0;34m)\u001b[0m\u001b[0;34m\u001b[0m\u001b[0;34m\u001b[0m\u001b[0m\n\u001b[0m\u001b[1;32m   2198\u001b[0m \u001b[0;34m\u001b[0m\u001b[0m\n\u001b[1;32m   2199\u001b[0m     return list(chain.from_iterable((_safe_indexing(a, train),\n",
      "\u001b[0;32m~/.local/lib/python3.8/site-packages/sklearn/model_selection/_split.py\u001b[0m in \u001b[0;36msplit\u001b[0;34m(self, X, y, groups)\u001b[0m\n\u001b[1;32m   1385\u001b[0m         \"\"\"\n\u001b[1;32m   1386\u001b[0m         \u001b[0mX\u001b[0m\u001b[0;34m,\u001b[0m \u001b[0my\u001b[0m\u001b[0;34m,\u001b[0m \u001b[0mgroups\u001b[0m \u001b[0;34m=\u001b[0m \u001b[0mindexable\u001b[0m\u001b[0;34m(\u001b[0m\u001b[0mX\u001b[0m\u001b[0;34m,\u001b[0m \u001b[0my\u001b[0m\u001b[0;34m,\u001b[0m \u001b[0mgroups\u001b[0m\u001b[0;34m)\u001b[0m\u001b[0;34m\u001b[0m\u001b[0;34m\u001b[0m\u001b[0m\n\u001b[0;32m-> 1387\u001b[0;31m         \u001b[0;32mfor\u001b[0m \u001b[0mtrain\u001b[0m\u001b[0;34m,\u001b[0m \u001b[0mtest\u001b[0m \u001b[0;32min\u001b[0m \u001b[0mself\u001b[0m\u001b[0;34m.\u001b[0m\u001b[0m_iter_indices\u001b[0m\u001b[0;34m(\u001b[0m\u001b[0mX\u001b[0m\u001b[0;34m,\u001b[0m \u001b[0my\u001b[0m\u001b[0;34m,\u001b[0m \u001b[0mgroups\u001b[0m\u001b[0;34m)\u001b[0m\u001b[0;34m:\u001b[0m\u001b[0;34m\u001b[0m\u001b[0;34m\u001b[0m\u001b[0m\n\u001b[0m\u001b[1;32m   1388\u001b[0m             \u001b[0;32myield\u001b[0m \u001b[0mtrain\u001b[0m\u001b[0;34m,\u001b[0m \u001b[0mtest\u001b[0m\u001b[0;34m\u001b[0m\u001b[0;34m\u001b[0m\u001b[0m\n\u001b[1;32m   1389\u001b[0m \u001b[0;34m\u001b[0m\u001b[0m\n",
      "\u001b[0;32m~/.local/lib/python3.8/site-packages/sklearn/model_selection/_split.py\u001b[0m in \u001b[0;36m_iter_indices\u001b[0;34m(self, X, y, groups)\u001b[0m\n\u001b[1;32m   1713\u001b[0m         \u001b[0mclass_counts\u001b[0m \u001b[0;34m=\u001b[0m \u001b[0mnp\u001b[0m\u001b[0;34m.\u001b[0m\u001b[0mbincount\u001b[0m\u001b[0;34m(\u001b[0m\u001b[0my_indices\u001b[0m\u001b[0;34m)\u001b[0m\u001b[0;34m\u001b[0m\u001b[0;34m\u001b[0m\u001b[0m\n\u001b[1;32m   1714\u001b[0m         \u001b[0;32mif\u001b[0m \u001b[0mnp\u001b[0m\u001b[0;34m.\u001b[0m\u001b[0mmin\u001b[0m\u001b[0;34m(\u001b[0m\u001b[0mclass_counts\u001b[0m\u001b[0;34m)\u001b[0m \u001b[0;34m<\u001b[0m \u001b[0;36m2\u001b[0m\u001b[0;34m:\u001b[0m\u001b[0;34m\u001b[0m\u001b[0;34m\u001b[0m\u001b[0m\n\u001b[0;32m-> 1715\u001b[0;31m             raise ValueError(\"The least populated class in y has only 1\"\n\u001b[0m\u001b[1;32m   1716\u001b[0m                              \u001b[0;34m\" member, which is too few. The minimum\"\u001b[0m\u001b[0;34m\u001b[0m\u001b[0;34m\u001b[0m\u001b[0m\n\u001b[1;32m   1717\u001b[0m                              \u001b[0;34m\" number of groups for any class cannot\"\u001b[0m\u001b[0;34m\u001b[0m\u001b[0;34m\u001b[0m\u001b[0m\n",
      "\u001b[0;31mValueError\u001b[0m: The least populated class in y has only 1 member, which is too few. The minimum number of groups for any class cannot be less than 2."
     ]
    }
   ],
   "source": [
    "from cantor import pair,depair\n",
    "#X_train, X_test, y_train, y_test = train_test_split(DATABASE, label, test_size=0.3,random_state=42)\n",
    "label_stratified = pair(labelN, bbddN)\n",
    "label_stratified = 100000*labelN + bbddN\n",
    "X_train, X_test,  y_train_paired, y_test_paired  = train_test_split(DBImgs, label_stratified, test_size=1/4,random_state=42, stratify=label_stratified)\n",
    "y_train = depair(y_train_paired)\n",
    "y_test  = depair(y_test_paired)\n",
    "\n",
    "\n",
    "X_train, X_valid, y_train, y_valid = train_test_split(X_train, y_train, test_size=1/3, random_state=42, stratify=y_train)"
   ]
  },
  {
   "cell_type": "code",
   "execution_count": 48,
   "metadata": {},
   "outputs": [],
   "source": [
    "X_train, X_test, y_train, y_test = train_test_split(DBImgs, label, test_size=0.3,random_state=42, stratify=label)\n",
    "X_train, X_valid, y_train, y_valid = train_test_split(X_train, y_train, test_size=1/3,random_state=42, stratify=y_train)"
   ]
  },
  {
   "cell_type": "code",
   "execution_count": 49,
   "metadata": {},
   "outputs": [
    {
     "name": "stdout",
     "output_type": "stream",
     "text": [
      "1180\n"
     ]
    }
   ],
   "source": [
    "from PIL import Image\n",
    "k=0;\n",
    "for i in range(len(X_train)):\n",
    "    for j in classifications:\n",
    "        if y_train[i]==j:\n",
    "            if(X_train[i]['bdImg'].size>0):\n",
    "                imDoppler=Image.fromarray(X_train[i]['echoImg']);\n",
    "                imBD=Image.fromarray(X_train[i]['bdImg']);\n",
    "                imBD.save('/mnt/d/USER/Drive UPF/TFM/Datasets/Resnet18/NewDatasetNAMES/BD/train/'+y_train[i]+'/'+X_train[i]['filename']+\".png\")\n",
    "                imDoppler.save('/mnt/d/USER/Drive UPF/TFM/Datasets/Resnet18/NewDatasetNAMES/Doppler/train/'+y_train[i]+'/'+X_train[i]['filename']+\".png\")\n",
    "                k=k+1;\n",
    "                break;\n",
    "print(k)"
   ]
  },
  {
   "cell_type": "code",
   "execution_count": 50,
   "metadata": {},
   "outputs": [
    {
     "name": "stdout",
     "output_type": "stream",
     "text": [
      "759\n"
     ]
    }
   ],
   "source": [
    "\n",
    "k=0;\n",
    "for i in range(len(X_test)):\n",
    "    for j in classifications:\n",
    "        if y_test[i]==j:\n",
    "            if(X_test[i]['bdImg'].size>0):\n",
    "                imDoppler=Image.fromarray(X_test[i]['echoImg']);\n",
    "                imBD=Image.fromarray(X_test[i]['bdImg']);\n",
    "                imBD.save('/mnt/d/USER/Drive UPF/TFM/Datasets/Resnet18/NewDatasetNAMES/BD/test/'+y_test[i]+'/'+X_test[i]['filename']+\".png\")\n",
    "                imDoppler.save('/mnt/d/USER/Drive UPF/TFM/Datasets/Resnet18/NewDatasetNAMES/Doppler/test/'+y_test[i]+'/'+X_test[i]['filename']+\".png\")\n",
    "                k=k+1;\n",
    "                break;\n",
    "print(k)"
   ]
  },
  {
   "cell_type": "code",
   "execution_count": 51,
   "metadata": {},
   "outputs": [
    {
     "name": "stdout",
     "output_type": "stream",
     "text": [
      "591\n"
     ]
    }
   ],
   "source": [
    "\n",
    "k=0;\n",
    "for i in range(len(X_valid)):\n",
    "    for j in classifications:\n",
    "        if y_valid[i]==j:\n",
    "            if(X_valid[i]['bdImg'].size>0):\n",
    "                imDoppler=Image.fromarray(X_valid[i]['echoImg']);\n",
    "                imBD=Image.fromarray(X_valid[i]['bdImg']);\n",
    "                imBD.save('/mnt/d/USER/Drive UPF/TFM/Datasets/Resnet18/NewDatasetNAMES/BD/val/'+y_valid[i]+'/'+X_valid[i]['filename']+\".png\")\n",
    "                imDoppler.save('/mnt/d/USER/Drive UPF/TFM/Datasets/Resnet18/NewDatasetNAMES/Doppler/val/'+y_valid[i]+'/'+X_valid[i]['filename']+\".png\")\n",
    "                k=k+1;\n",
    "                break;\n",
    "print(k)"
   ]
  },
  {
   "cell_type": "code",
   "execution_count": 13,
   "metadata": {},
   "outputs": [],
   "source": [
    "np.save('EchoDB_act.npy',DBImgs,allow_pickle=True)"
   ]
  }
 ],
 "metadata": {
  "kernelspec": {
   "display_name": "Python 3",
   "language": "python",
   "name": "python3"
  },
  "language_info": {
   "codemirror_mode": {
    "name": "ipython",
    "version": 3
   },
   "file_extension": ".py",
   "mimetype": "text/x-python",
   "name": "python",
   "nbconvert_exporter": "python",
   "pygments_lexer": "ipython3",
   "version": "3.8.5"
  }
 },
 "nbformat": 4,
 "nbformat_minor": 4
}
